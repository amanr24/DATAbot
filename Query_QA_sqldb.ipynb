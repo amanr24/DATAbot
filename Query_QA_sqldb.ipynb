{
 "cells": [
  {
   "cell_type": "code",
   "execution_count": 1,
   "id": "e565e8d8-00ae-4297-b601-ab6600eda198",
   "metadata": {},
   "outputs": [],
   "source": [
    "import sqlite3\n",
    "import pandas as pd\n",
    "from langchain_community.utilities import SQLDatabase\n",
    "from langchain.llms import Ollama\n",
    "from langchain_core.prompts import PromptTemplate"
   ]
  },
  {
   "cell_type": "markdown",
   "id": "78712dbe-7a94-4132-8c5e-1775634dfa0d",
   "metadata": {},
   "source": [
    "### Step 1: Convert CSV to SQLite Database"
   ]
  },
  {
   "cell_type": "code",
   "execution_count": 2,
   "id": "af3253d7-41a9-4e38-8fcb-6a8e7df82a2d",
   "metadata": {},
   "outputs": [],
   "source": [
    "csv_file = \"data/diabetes.csv\"  # Update with your actual CSV file name\n",
    "db_file = \"database.db\"  # SQLite database name\n",
    "table_name = \"diabetes\""
   ]
  },
  {
   "cell_type": "code",
   "execution_count": 3,
   "id": "ffa6dc20-ee37-48ec-ae20-266a8a97a500",
   "metadata": {},
   "outputs": [
    {
     "data": {
      "text/plain": [
       "768"
      ]
     },
     "execution_count": 3,
     "metadata": {},
     "output_type": "execute_result"
    }
   ],
   "source": [
    "df = pd.read_csv(csv_file)\n",
    "\n",
    "# Connect to SQLite database\n",
    "conn = sqlite3.connect(db_file)\n",
    "cursor = conn.cursor()\n",
    "df.to_sql(table_name, conn, if_exists=\"replace\", index=False)"
   ]
  },
  {
   "cell_type": "code",
   "execution_count": 4,
   "id": "20741cd5-35b3-457a-9d8d-ee96f627bb02",
   "metadata": {},
   "outputs": [
    {
     "name": "stdout",
     "output_type": "stream",
     "text": [
      "Database Schema:\n",
      "Pregnancies (INTEGER)\n",
      "Glucose (INTEGER)\n",
      "BloodPressure (INTEGER)\n",
      "SkinThickness (INTEGER)\n",
      "Insulin (INTEGER)\n",
      "BMI (REAL)\n",
      "DiabetesPedigreeFunction (REAL)\n",
      "Age (INTEGER)\n",
      "Outcome (INTEGER)\n"
     ]
    }
   ],
   "source": [
    "# Fetch schema from SQLite\n",
    "cursor.execute(f\"PRAGMA table_info({table_name})\")\n",
    "schema_info = cursor.fetchall()\n",
    "\n",
    "# Generate schema string\n",
    "schema_str = \"\\n\".join([f\"{col[1]} ({col[2]})\" for col in schema_info])\n",
    "conn.commit()\n",
    "conn.close()\n",
    "\n",
    "print(f\"Database Schema:\\n{schema_str}\")"
   ]
  },
  {
   "cell_type": "markdown",
   "id": "57a2f400-850f-4b11-b79d-0b67f5eeefc7",
   "metadata": {},
   "source": [
    "### Step 2: Initialize LLaMA 3 (via Ollama API)"
   ]
  },
  {
   "cell_type": "code",
   "execution_count": 5,
   "id": "39185961-cdbb-4b9f-a7df-d808875156cf",
   "metadata": {},
   "outputs": [
    {
     "name": "stderr",
     "output_type": "stream",
     "text": [
      "C:\\Users\\Aman\\AppData\\Local\\Temp\\ipykernel_25040\\1234702271.py:1: LangChainDeprecationWarning: The class `Ollama` was deprecated in LangChain 0.3.1 and will be removed in 1.0.0. An updated version of the class exists in the :class:`~langchain-ollama package and should be used instead. To use it run `pip install -U :class:`~langchain-ollama` and import as `from :class:`~langchain_ollama import OllamaLLM``.\n",
      "  llm = Ollama(model=\"llama3\")\n"
     ]
    }
   ],
   "source": [
    "llm = Ollama(model=\"llama3\")\n",
    "\n",
    "# Define a prompt for LLaMA to generate SQL queries\n",
    "prompt_template = PromptTemplate.from_template(\n",
    "    \"\"\"You are an AI assistant that generates SQL queries.\n",
    "    The database contains a table named `{table_name}` with the following schema:\n",
    "\n",
    "    {schema}\n",
    "\n",
    "    Generate an SQL query to answer: \"{question}\"\n",
    "    Use the exact table name `{table_name}` in the query.\n",
    "    Only return the SQL query, no explanation.\n",
    "    \"\"\"\n",
    ")"
   ]
  },
  {
   "cell_type": "code",
   "execution_count": 6,
   "id": "c33f7951-c6ab-455f-8a44-adc9c231c36e",
   "metadata": {},
   "outputs": [],
   "source": [
    "def generate_sql_query(question):\n",
    "    \"\"\"Uses LLaMA 3 to generate an SQL query based on schema and user question.\"\"\"\n",
    "    prompt = prompt_template.format(schema=schema_str, table_name=table_name, question=question)\n",
    "    response = llm.invoke(prompt)\n",
    "    return response.strip()"
   ]
  },
  {
   "cell_type": "markdown",
   "id": "5ec743a5-459a-42f7-a4cc-4fcbf5f25ffb",
   "metadata": {},
   "source": [
    "### Step 3: Query Execution Function"
   ]
  },
  {
   "cell_type": "code",
   "execution_count": 7,
   "id": "966dcd1a-398c-4791-b1ec-8efdec63563c",
   "metadata": {},
   "outputs": [],
   "source": [
    "def execute_query(sql_query):\n",
    "    \"\"\"Executes the generated SQL query on SQLite and returns the result.\"\"\"\n",
    "    conn = sqlite3.connect(db_file)\n",
    "    cursor = conn.cursor()\n",
    "    \n",
    "    try:\n",
    "        cursor.execute(sql_query)\n",
    "        result = cursor.fetchall()\n",
    "        conn.close()\n",
    "        return result\n",
    "    except Exception as e:\n",
    "        conn.close()\n",
    "        return f\"Error executing query: {e}\""
   ]
  },
  {
   "cell_type": "markdown",
   "id": "5c481d3d-4326-42f0-9109-77bd161fc7b2",
   "metadata": {},
   "source": [
    "### Step 4: Ask a question and get the answer"
   ]
  },
  {
   "cell_type": "code",
   "execution_count": 8,
   "id": "113c4601-16a2-4829-ba7b-ba12da1b082c",
   "metadata": {},
   "outputs": [
    {
     "name": "stdout",
     "output_type": "stream",
     "text": [
      "Generated SQL Query: SELECT AVG(Age) FROM diabetes WHERE Outcome = 1;\n",
      "Query Result: [(37.06716417910448,)]\n"
     ]
    }
   ],
   "source": [
    "user_question = \"What is the average age of diabetic patients?\"\n",
    "generated_query = generate_sql_query(user_question)\n",
    "print(\"Generated SQL Query:\", generated_query)\n",
    "\n",
    "query_result = execute_query(generated_query)\n",
    "print(\"Query Result:\", query_result)"
   ]
  }
 ],
 "metadata": {
  "kernelspec": {
   "display_name": "Python 3 (ipykernel)",
   "language": "python",
   "name": "python3"
  },
  "language_info": {
   "codemirror_mode": {
    "name": "ipython",
    "version": 3
   },
   "file_extension": ".py",
   "mimetype": "text/x-python",
   "name": "python",
   "nbconvert_exporter": "python",
   "pygments_lexer": "ipython3",
   "version": "3.11.0"
  }
 },
 "nbformat": 4,
 "nbformat_minor": 5
}
